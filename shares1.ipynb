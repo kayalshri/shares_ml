{
  "nbformat": 4,
  "nbformat_minor": 0,
  "metadata": {
    "colab": {
      "name": "shares1.ipynb",
      "provenance": [],
      "authorship_tag": "ABX9TyMWcaMwRksAFO5sHZQEup0J",
      "include_colab_link": true
    },
    "kernelspec": {
      "name": "python3",
      "display_name": "Python 3"
    },
    "language_info": {
      "name": "python"
    }
  },
  "cells": [
    {
      "cell_type": "markdown",
      "metadata": {
        "id": "view-in-github",
        "colab_type": "text"
      },
      "source": [
        "<a href=\"https://colab.research.google.com/github/kayalshri/shares_ml/blob/main/shares1.ipynb\" target=\"_parent\"><img src=\"https://colab.research.google.com/assets/colab-badge.svg\" alt=\"Open In Colab\"/></a>"
      ]
    },
    {
      "cell_type": "code",
      "metadata": {
        "id": "t0fmVKjHG_Ek"
      },
      "source": [
        "# Stock market Prediction Analysis 1.0\n",
        "# Giriraj 29 May 2021,\n",
        "# ref https://www.youtube.com/watch?v=EYnC4ACIt2g\n",
        "\n",
        "# Install Dependencies\n",
        "pip install quandl"
      ],
      "execution_count": null,
      "outputs": []
    },
    {
      "cell_type": "code",
      "metadata": {
        "id": "jczlM9IEINoc"
      },
      "source": [
        "import quandl\n",
        "import numpy as np\n",
        "from sklearn.linear_model import LinearRegression\n",
        "from sklearn.svm import SVR\n",
        "from sklearn.model_selection import train_test_split"
      ],
      "execution_count": null,
      "outputs": []
    },
    {
      "cell_type": "code",
      "metadata": {
        "colab": {
          "base_uri": "https://localhost:8080/"
        },
        "id": "4_25G7iXI8Qm",
        "outputId": "9e0e2e3e-5a11-4c80-e2ea-0125904c4bb0"
      },
      "source": [
        "# Get the data\n",
        "df = quandl.get(\"WIKI/FB\")\n",
        "print(df.head())"
      ],
      "execution_count": null,
      "outputs": [
        {
          "output_type": "stream",
          "text": [
            "             Open   High    Low  ...  Adj. Low  Adj. Close  Adj. Volume\n",
            "Date                             ...                                   \n",
            "2012-05-18  42.05  45.00  38.00  ...     38.00     38.2318  573576400.0\n",
            "2012-05-21  36.53  36.66  33.00  ...     33.00     34.0300  168192700.0\n",
            "2012-05-22  32.61  33.59  30.94  ...     30.94     31.0000  101786600.0\n",
            "2012-05-23  31.37  32.50  31.36  ...     31.36     32.0000   73600000.0\n",
            "2012-05-24  32.95  33.21  31.77  ...     31.77     33.0300   50237200.0\n",
            "\n",
            "[5 rows x 12 columns]\n"
          ],
          "name": "stdout"
        }
      ]
    },
    {
      "cell_type": "code",
      "metadata": {
        "colab": {
          "base_uri": "https://localhost:8080/"
        },
        "id": "Ds6jZmLnJV5p",
        "outputId": "a08531ae-980f-4e4c-b57f-f788fb5a9856"
      },
      "source": [
        "df = df[['Adj. Close']]\n",
        "print(df.head())"
      ],
      "execution_count": null,
      "outputs": [
        {
          "output_type": "stream",
          "text": [
            "            Adj. Close\n",
            "Date                  \n",
            "2012-05-18     38.2318\n",
            "2012-05-21     34.0300\n",
            "2012-05-22     31.0000\n",
            "2012-05-23     32.0000\n",
            "2012-05-24     33.0300\n"
          ],
          "name": "stdout"
        }
      ]
    },
    {
      "cell_type": "code",
      "metadata": {
        "colab": {
          "base_uri": "https://localhost:8080/"
        },
        "id": "ZdC3hIhhJ6z5",
        "outputId": "2f3a3268-ac63-41e0-9aa1-8ae4c82fd2f6"
      },
      "source": [
        "forecast_out =30\n",
        "df['Prediction'] = df[['Adj. Close']].shift(-forecast_out)\n",
        "print(df.tail())"
      ],
      "execution_count": null,
      "outputs": [
        {
          "output_type": "stream",
          "text": [
            "            Adj. Close  Prediction\n",
            "Date                              \n",
            "2018-03-21      169.39         NaN\n",
            "2018-03-22      164.89         NaN\n",
            "2018-03-23      159.39         NaN\n",
            "2018-03-26      160.06         NaN\n",
            "2018-03-27      152.19         NaN\n"
          ],
          "name": "stdout"
        }
      ]
    },
    {
      "cell_type": "code",
      "metadata": {
        "id": "GRljPlozUPUP"
      },
      "source": [
        "X  = np.array(df.drop(['Prediction'],1))\n",
        "X = X[:-forecast_out]\n",
        "print(X)\n"
      ],
      "execution_count": null,
      "outputs": []
    },
    {
      "cell_type": "code",
      "metadata": {
        "id": "TfLhosrlV1Di"
      },
      "source": [
        "y = np.array(df['Prediction'])\n",
        "y= y[:-forecast_out]\n",
        "print(y)"
      ],
      "execution_count": null,
      "outputs": []
    },
    {
      "cell_type": "code",
      "metadata": {
        "id": "pLVQ1J0EWCVg"
      },
      "source": [
        "x_train,x_test, y_train,y_test = train_test_split(X,y,test_size=0.2)"
      ],
      "execution_count": null,
      "outputs": []
    },
    {
      "cell_type": "code",
      "metadata": {
        "colab": {
          "base_uri": "https://localhost:8080/"
        },
        "id": "S4kJMB8cXQAe",
        "outputId": "bf89cad4-f546-478b-f196-bfca4be6054b"
      },
      "source": [
        "svr_rbf = SVR(kernel='rbf', C=1e3,gamma=0.1)\n",
        "svr_rbf.fit(x_train,y_train)"
      ],
      "execution_count": null,
      "outputs": [
        {
          "output_type": "execute_result",
          "data": {
            "text/plain": [
              "SVR(C=1000.0, cache_size=200, coef0=0.0, degree=3, epsilon=0.1, gamma=0.1,\n",
              "    kernel='rbf', max_iter=-1, shrinking=True, tol=0.001, verbose=False)"
            ]
          },
          "metadata": {
            "tags": []
          },
          "execution_count": 19
        }
      ]
    },
    {
      "cell_type": "code",
      "metadata": {
        "colab": {
          "base_uri": "https://localhost:8080/"
        },
        "id": "yhVNzuocYKTr",
        "outputId": "7ee6def9-7791-4d5c-8e48-fd117475a82d"
      },
      "source": [
        "svm_confidence = svr_rbf.score(x_test,y_test)\n",
        "print(\"SVM confidence\", svm_confidence)"
      ],
      "execution_count": null,
      "outputs": [
        {
          "output_type": "stream",
          "text": [
            "SVM confidence 0.9835753663741857\n"
          ],
          "name": "stdout"
        }
      ]
    },
    {
      "cell_type": "code",
      "metadata": {
        "colab": {
          "base_uri": "https://localhost:8080/"
        },
        "id": "gz-Yp7bfYwVD",
        "outputId": "3ddcca1a-0c6d-4d96-b088-e2e254873281"
      },
      "source": [
        "lr = LinearRegression()\n",
        "lr.fit(x_train,y_train)"
      ],
      "execution_count": null,
      "outputs": [
        {
          "output_type": "execute_result",
          "data": {
            "text/plain": [
              "LinearRegression(copy_X=True, fit_intercept=True, n_jobs=None, normalize=False)"
            ]
          },
          "metadata": {
            "tags": []
          },
          "execution_count": 21
        }
      ]
    },
    {
      "cell_type": "code",
      "metadata": {
        "colab": {
          "base_uri": "https://localhost:8080/"
        },
        "id": "JyFPcxkWY40x",
        "outputId": "22347d5f-dd75-4b85-8500-74d8e1ed406f"
      },
      "source": [
        "lr_confidence = lr.score(x_test,y_test)\n",
        "print(\"lr confidence\", lr_confidence)"
      ],
      "execution_count": null,
      "outputs": [
        {
          "output_type": "stream",
          "text": [
            "lr confidence 0.9798639525215742\n"
          ],
          "name": "stdout"
        }
      ]
    },
    {
      "cell_type": "code",
      "metadata": {
        "id": "Etr_BpvZZotG"
      },
      "source": [
        "x_forecast = np.array(df.drop(['Prediction'],1))[-forecast_out:]\n",
        "print(x_forecast)"
      ],
      "execution_count": null,
      "outputs": []
    },
    {
      "cell_type": "code",
      "metadata": {
        "colab": {
          "base_uri": "https://localhost:8080/"
        },
        "id": "jb9C5eiXaKtj",
        "outputId": "b7813c6e-2fdd-439a-a2ef-2e014c8778a0"
      },
      "source": [
        "lr_prediction = lr.predict(x_forecast)\n",
        "print(lr_prediction)"
      ],
      "execution_count": null,
      "outputs": [
        {
          "output_type": "stream",
          "text": [
            "[177.2672425  183.71973196 184.16542982 181.53176065 180.16427858\n",
            " 182.08888298 183.18286863 187.53855226 189.19978973 185.68485434\n",
            " 182.50419234 180.09337211 180.78217789 184.61112768 183.98309888\n",
            " 187.96399112 186.57625006 189.50367464 189.02758829 186.11029321\n",
            " 188.45020697 188.11593357 189.36186168 176.66960219 172.2024941\n",
            " 173.4585517  168.90027814 163.3290549  164.00773118 156.0358172 ]\n"
          ],
          "name": "stdout"
        }
      ]
    },
    {
      "cell_type": "code",
      "metadata": {
        "colab": {
          "base_uri": "https://localhost:8080/"
        },
        "id": "2LpnjziTaT98",
        "outputId": "58bb58db-db98-479d-cf7f-9329447f3e64"
      },
      "source": [
        "svm_prediction = svr_rbf.predict(x_forecast)\n",
        "print(svm_prediction)"
      ],
      "execution_count": null,
      "outputs": [
        {
          "output_type": "stream",
          "text": [
            "[174.93747605 181.86043713 182.6578565  176.38216927 174.97432472\n",
            " 177.57906847 180.67903124 182.98990868 177.07192966 186.20388333\n",
            " 178.75534193 174.87797508 175.56598418 183.50150311 182.33878296\n",
            " 180.3791501  186.91236811 177.82960415 176.90679638 186.97205379\n",
            " 177.93329189 179.50801134 177.40890702 177.68845707 172.44343319\n",
            " 172.34452094 171.96467793 167.654906   166.19521942 156.69720469]\n"
          ],
          "name": "stdout"
        }
      ]
    },
    {
      "cell_type": "code",
      "metadata": {
        "colab": {
          "base_uri": "https://localhost:8080/"
        },
        "id": "u7pb6xmPbXtz",
        "outputId": "29a09b60-d0bc-43ec-f222-6236126d857c"
      },
      "source": [
        "df = df[['Adj. Close']][forecast_out:]\n",
        "print(df)"
      ],
      "execution_count": null,
      "outputs": [
        {
          "output_type": "stream",
          "text": [
            "Empty DataFrame\n",
            "Columns: [Adj. Close]\n",
            "Index: []\n"
          ],
          "name": "stdout"
        }
      ]
    }
  ]
}